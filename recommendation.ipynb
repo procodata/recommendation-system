{
 "cells": [
  {
   "cell_type": "markdown",
   "metadata": {},
   "source": [
    "# <center> Recommendation System </center>"
   ]
  },
  {
   "cell_type": "markdown",
   "metadata": {},
   "source": [
    "<span style=\"font-size:30px float=\"left\" \"> <b>Recommendation  </b></span> perform as virtual salesmen dramatically\n",
    "drive sales. They use input about a customer’s interests to generate a list of recommended items.\n",
    "Many large Ecommerce websites apply Recommendation algorithms intensively and comprehensively. "
   ]
  },
  {
   "cell_type": "markdown",
   "metadata": {},
   "source": [
    "**Two typs of recommendation method** are Content-Based (CB)and Collaborative\n",
    "Filtering (CF). Content-Based recommendation method and it focuses on the attributes of the\n",
    "items and give you recommendations based on the similarity between them, without considering\n",
    "the user’s behavior. The performance of CB strongly depends on the quality of the features.\n",
    "Collaborative filtering (CF) is the workhorse of recommender engines which requires lot of\n",
    "user-generated data and it doesn’t rely on the features of items. It can get quite complicated, but\n",
    "it’s the state of art. Since our dataset doesn’t contain any feature of items, I mainly focus on the\n",
    "Collaborative Filtering methods. The main idea underlying CF method is that similar or relevent\n",
    "items is more likely to be purchased by users with similar preference. A intuitive way to say that\n",
    "is:\n",
    "1. “Customers who liked this item also liked … ”\n",
    "2. “Customers who are similar to you also liked …\""
   ]
  },
  {
   "cell_type": "markdown",
   "metadata": {},
   "source": [
    "**Two critical matrices** for the implementation are user-user matrix and user-item matrix, which are extremely sparse. After these two matrices were obtained, **Three algorithms** of  recommendation method are implemented from scratch here.\n",
    "1. Clustering users using KMeans \n",
    "2. Item-Item similarity\n",
    "3. User-Item collaborative filtering"
   ]
  },
  {
   "cell_type": "code",
   "execution_count": 92,
   "metadata": {
    "collapsed": true
   },
   "outputs": [],
   "source": [
    "import pandas as pd\n",
    "import numpy as np\n",
    "import seaborn as sns\n",
    "import time\n",
    "import os\n",
    "import math as mt\n",
    "import heapq\n",
    "import csv\n",
    "from sparsesvd import sparsesvd\n",
    "import scipy.sparse\n",
    "from scipy.sparse.linalg import *\n",
    "import matplotlib.pyplot as plt\n",
    "from scipy.spatial.distance import cosine\n",
    "from scipy import stats \n",
    "from sklearn.metrics.pairwise import pairwise_distances\n",
    "from scipy import sparse as sp\n",
    "import sklearn.preprocessing as pp\n",
    "from itertools import chain\n",
    "from collections import Counter\n",
    "from scipy.sparse import csr_matrix\n",
    "%matplotlib inline"
   ]
  },
  {
   "cell_type": "markdown",
   "metadata": {},
   "source": [
    "# Preliminary Data Exploratory  "
   ]
  },
  {
   "cell_type": "code",
   "execution_count": 78,
   "metadata": {
    "collapsed": false
   },
   "outputs": [
    {
     "name": "stdout",
     "output_type": "stream",
     "text": [
      "(12256906, 6)\n"
     ]
    }
   ],
   "source": [
    "users = pd.read_csv('./tianchi_mobile_recommend_train_user.csv')\n",
    "users.head()\n",
    "print users.shape"
   ]
  },
  {
   "cell_type": "markdown",
   "metadata": {},
   "source": [
    "&nbsp;\n",
    "\n",
    "**The behavior_type includes click, collect, add-to-cart and payment, and the corresponding behaviors are denoted by 1, 2, 3 and 4, respectively. The plot below shows the distribution of behavior_type count (in log)** \n",
    "    "
   ]
  },
  {
   "cell_type": "code",
   "execution_count": 10,
   "metadata": {
    "collapsed": false
   },
   "outputs": [
    {
     "name": "stdout",
     "output_type": "stream",
     "text": [
      "[1, 2, 3, 4]\n"
     ]
    },
    {
     "data": {
      "text/plain": [
       "<matplotlib.text.Text at 0x100eef790>"
      ]
     },
     "execution_count": 10,
     "metadata": {},
     "output_type": "execute_result"
    },
    {
     "data": {
      "image/png": "[encoded data removed]",
      "text/plain": [
       "<matplotlib.figure.Figure at 0x1068c4c50>"
      ]
     },
     "metadata": {},
     "output_type": "display_data"
    }
   ],
   "source": [
    "behaviorCount = Counter(users.behavior_type)\n",
    "print behaviorCount.keys()\n",
    "_ = plt.bar(behaviorCount.keys(), np.log(behaviorCount.values()),color=\"blue\")\n",
    "plt.title('Distribution of Behavior Type')\n",
    "plt.xlabel('Behavior Type')\n",
    "plt.ylabel('count')"
   ]
  },
  {
   "cell_type": "markdown",
   "metadata": {},
   "source": [
    "**Payment information(who made the payment and which item paid for) is presumed to be more important than the other three behaviors, so it's distribution was analyzed further. In our dataset, some person made payments up to amost 700 times, and the numbers drops exponentially  **"
   ]
  },
  {
   "cell_type": "code",
   "execution_count": 24,
   "metadata": {
    "collapsed": true
   },
   "outputs": [],
   "source": [
    "payment = users.ix[users.behavior_type==4]\n",
    "tt = payment[['user_id','item_id']].groupby('user_id').count().reset_index()\n",
    "tt.columns = ['user_id', 'count_n_items']\n",
    "ahhh = Counter(tt.count_n_items)"
   ]
  },
  {
   "cell_type": "code",
   "execution_count": 48,
   "metadata": {
    "collapsed": false
   },
   "outputs": [
    {
     "data": {
      "text/plain": [
       "<matplotlib.text.Text at 0x109e54d10>"
      ]
     },
     "execution_count": 48,
     "metadata": {},
     "output_type": "execute_result"
    },
    {
     "data": {
      "image/png": "[encoded data removed]",
      "text/plain": [
       "<matplotlib.figure.Figure at 0x10acd1f90>"
      ]
     },
     "metadata": {},
     "output_type": "display_data"
    }
   ],
   "source": [
    "_ = plt.bar(ahhh.keys(), ahhh.values(),color=\"blue\")\n",
    "plt.title('Distribution of the NUmber of item purchased by buyers')\n",
    "plt.xlabel('Number of Purchase for each user')\n",
    "plt.ylabel('count')\n",
    "# plt.xlim(0,200)"
   ]
  },
  {
   "cell_type": "code",
   "execution_count": 25,
   "metadata": {
    "collapsed": false
   },
   "outputs": [
    {
     "data": {
      "text/plain": [
       "<matplotlib.text.Text at 0x1069ac110>"
      ]
     },
     "execution_count": 25,
     "metadata": {},
     "output_type": "execute_result"
    },
    {
     "data": {
      "image/png": "[encoded data removed]",
      "text/plain": [
       "<matplotlib.figure.Figure at 0x131d776d0>"
      ]
     },
     "metadata": {},
     "output_type": "display_data"
    }
   ],
   "source": [
    "_ = plt.bar(np.log(ahhh.keys()), ahhh.values(),color=\"blue\")\n",
    "plt.title('Distribution of the NUmber of item purchased by buyers')\n",
    "plt.xlabel('np.log(Number of Purchase for each user)')\n",
    "plt.ylabel('count')"
   ]
  },
  {
   "cell_type": "markdown",
   "metadata": {},
   "source": [
    "# Subset test and traing sets"
   ]
  },
  {
   "cell_type": "code",
   "execution_count": 53,
   "metadata": {
    "collapsed": true
   },
   "outputs": [],
   "source": [
    "origUserID_index_dict = dict([(orig_UserID,i)  for i, orig_UserID in enumerate(users.user_id.unique())]) \n",
    "origItemID_index_dict = dict([(orig_ItemID,i)  for i, orig_ItemID in enumerate(users.item_id.unique())])\n",
    "\n",
    "index_origUserID_dict = dict([(i,orig_UserID)  for i, orig_UserID in enumerate(users.user_id.unique())]) \n",
    "index_origItemID_dict = dict([(i,orig_ItemID)  for i, orig_ItemID in enumerate(users.item_id.unique())])\n",
    "\n",
    "np.random.seed(1)\n",
    "testset_indx = np.random.choice(10000, 3000, replace=False)\n",
    "testing_set = users[users['user_id'].isin([index_origUserID_dict[i] for i in testset_indx])]\n",
    "training_set = users[-users['user_id'].isin([index_origUserID_dict[i] for i in testset_indx])]\n",
    "#testing_set.to_csv('testing_dataset.csv', sep='\\t')\n",
    "#training_set.to_csv('training_dataset.csv', sep='\\t')"
   ]
  },
  {
   "cell_type": "code",
   "execution_count": 72,
   "metadata": {
    "collapsed": true
   },
   "outputs": [],
   "source": [
    "payment_sub = users.ix[users.behavior_type==4].copy()\n",
    "user_itemCount = payment_sub[['user_id',\"item_id\"]].groupby(['user_id']).count().reset_index()\n",
    "useful_user = list(user_itemCount[user_itemCount.item_id>3].user_id)\n",
    "Full_usefulUserActivity = users[users['user_id'].isin(useful_user)]\n",
    "Full_usefulUserActivity.to_csv('Full_usefulUser.csv', sep='\\t')"
   ]
  },
  {
   "cell_type": "markdown",
   "metadata": {},
   "source": [
    "# Recommendation System Implementation"
   ]
  },
  {
   "cell_type": "markdown",
   "metadata": {},
   "source": [
    "## * K-means  item-item clustering "
   ]
  },
  {
   "cell_type": "code",
   "execution_count": 68,
   "metadata": {
    "collapsed": true
   },
   "outputs": [],
   "source": [
    "def item_to_item_matrix(users):\n",
    "    \"\"\"users is the df used to construct matrix:userId, itemId,value(behavior_type)\"\"\"\n",
    "    \n",
    "    #create 4 dict \n",
    "    global origUserID_index_dict\n",
    "    origUserID_index_dict = dict([(orig_UserID,i)  for i, orig_UserID in enumerate(users.user_id.unique())]) \n",
    "        \n",
    "    global origItemID_index_dict\n",
    "    origItemID_index_dict = dict([(orig_ItemID,i)  for i, orig_ItemID in enumerate(users.item_id.unique())])\n",
    "\n",
    "    global index_origUserID_dict\n",
    "    index_origUserID_dict = dict([(i,orig_UserID)  for i, orig_UserID in enumerate(users.user_id.unique())]) \n",
    "    global index_origItemID_dict\n",
    "    index_origItemID_dict = dict([(i,orig_ItemID)  for i, orig_ItemID in enumerate(users.item_id.unique())])\n",
    "    \n",
    "    purchased_grouped = users.copy()\n",
    "    User_Row_Index = list(purchased_grouped[\"user_id\"].map(origUserID_index_dict))\n",
    "    Item_Col_Index = list(purchased_grouped[\"item_id\"].map(origItemID_index_dict))\n",
    "\n",
    "    crs_value = list(purchased_grouped.behavior_type)\n",
    "\n",
    "    nrow = max(User_Row_Index)+1\n",
    "    ncol = max(Item_Col_Index)+1\n",
    "    \n",
    "    #user to item \n",
    "    user_to_item_csr = csr_matrix((np.array(crs_value), (User_Row_Index , Item_Col_Index ) ), shape=(nrow, ncol),dtype=float)\n",
    "    \n",
    "    payment_sprs = user_to_item_csr.copy()\n",
    "    \n",
    "    csrNew=[]\n",
    "    for i in np.nonzero(payment_sprs.sum(axis=1))[0]:\n",
    "        sentence = np.repeat(payment_sprs[i,:].toarray().nonzero()[1].tolist(), payment_sprs[i,:].data.tolist())\n",
    "        for L in xrange(1,len(sentence)):\n",
    "            csrNew.append([(sentence[i], sentence[i+L]) for i,word in enumerate(sentence[:len(sentence)-L])])\n",
    "        \n",
    "    csr = Counter(list(chain.from_iterable(csrNew))) \n",
    "\n",
    "    \n",
    "    itemCsr_row = []\n",
    "    itemCsr_col = []\n",
    "    for i in csr.keys():\n",
    "        itemCsr_row.append(i[0])\n",
    "        itemCsr_col.append(i[1])\n",
    "    print max(itemCsr_col )\n",
    "    print max(itemCsr_row)\n",
    "\n",
    "    mtx1 = csr_matrix((np.array(csr.values()), (itemCsr_row, itemCsr_col) ), shape=(ncol,ncol),dtype=float)\n",
    "    mtx2 = csr_matrix((np.array(csr.values()), (itemCsr_col, itemCsr_row) ), shape=(ncol, ncol),dtype=float)\n",
    "    item_to_item_csr_mtx = mtx1 + mtx2\n",
    "    return item_to_item_csr_mtx "
   ]
  },
  {
   "cell_type": "code",
   "execution_count": 69,
   "metadata": {
    "collapsed": true
   },
   "outputs": [],
   "source": [
    "def RecommendItem(itemRowIndex,index_origItemID_dict,item_to_item_csr_mtx,K):\n",
    "    \"\"\"input: purchased iterm ID in row index\"\"\"\n",
    "    \"\"\"list of recommended iterm in original ID \"\"\"\n",
    "    #itemRowIndex = 772861\n",
    "    val, count = np.unique(item_to_item_csr_mtx[itemRowIndex,:].data,return_counts=True)\n",
    "    val = val[::-1]\n",
    "    if len(val)==0:\n",
    "        print 'item never purchased, not being able to match'\n",
    "        \n",
    "    else: \n",
    "        j = 0\n",
    "        max10index = np.argwhere(list(chain.from_iterable(item_to_item_csr_mtx[itemRowIndex,:].toarray() ))  ==val[j] )\n",
    "        max10index =list(chain.from_iterable(max10index) )\n",
    "        #while (len(max10index) <10):\n",
    "        while (len(max10index) <K) and (j+1<len(val)):    \n",
    "            #print j \n",
    "            j = j+1\n",
    "            a = np.argwhere(list(chain.from_iterable(item_to_item_csr_mtx[itemRowIndex,:].toarray() ))  ==val[j] )\n",
    "            a = list(chain.from_iterable(a) )\n",
    "            #print a\n",
    "            max10index = max10index+a\n",
    "            #print len(max10index)\n",
    "        return [index_origItemID_dict[i] for i in max10index]\n"
   ]
  },
  {
   "cell_type": "code",
   "execution_count": 70,
   "metadata": {
    "collapsed": true
   },
   "outputs": [],
   "source": [
    "def returnAccuracy(K,table):  \n",
    "    payment_test = table.copy()\n",
    "    payment_test.head()\n",
    "    tt = payment_test[['user_id','item_id']].groupby(['user_id','item_id']).count().reset_index().set_index(['user_id'])\n",
    "    unique_user_test = list(np.unique(payment_test.user_id))\n",
    "    print len(unique_user_test)\n",
    "    acc=[]\n",
    "    for j in xrange(len(unique_user_test)):   \n",
    "        userID = unique_user_test[j]\n",
    "        rec_list = []\n",
    "        if len(tt.ix[userID]['item_id'].shape)>0:    \n",
    "            for i in list(tt.loc[userID].item_id):\n",
    "                #print i,origItemID_index_dict[i]\n",
    "                itemRowIndex = origItemID_index_dict[i]\n",
    "                rec = RecommendItem(itemRowIndex,index_origItemID_dict,item_to_item_csr_mtx,K)\n",
    "                if (type(rec)==list):\n",
    "                    rec_list.append(rec)\n",
    "            #print j,set(list(chain.from_iterable(rec_list) ))& set(list(tt.loc[4913].item_id))\n",
    "        else: \n",
    "            itemRowIndex = origItemID_index_dict[tt.ix[userID]['item_id']]\n",
    "            #print j, set(list(chain.from_iterable(rec_list) ))& set(list(tt.loc[4913].item_id))\n",
    "        if len(set(list(chain.from_iterable(rec_list) ))& set(list(tt.loc[4913].item_id)))>0:\n",
    "            acc.append(j)\n",
    "    return len(acc)/float(len(unique_user_test)\n",
    "    "
   ]
  },
  {
   "cell_type": "code",
   "execution_count": 73,
   "metadata": {
    "collapsed": false
   },
   "outputs": [],
   "source": [
    "users =  pd.read_csv('Full_usefulUser.csv',sep = '\\t')\n",
    "users = users.ix[users.behavior_type==4].copy()\n",
    "table = users[['user_id','item_id','behavior_type']].groupby(['user_id','item_id']).aggregate(np.sum).reset_index().copy()"
   ]
  },
  {
   "cell_type": "code",
   "execution_count": null,
   "metadata": {
    "collapsed": true
   },
   "outputs": [],
   "source": [
    "#takes long to run \n",
    "item_to_item_csr_mtx = item_to_item_matrix(table )\n",
    "for K in [10,30,60]:o\n",
    "    #table.ix[:100,:]\n",
    "    print K,returnAccuracy(K,table)"
   ]
  },
  {
   "cell_type": "code",
   "execution_count": null,
   "metadata": {
    "collapsed": true
   },
   "outputs": [],
   "source": [
    "#k60\n",
    "len(acc)/float(len(unique_user_test))"
   ]
  },
  {
   "cell_type": "markdown",
   "metadata": {},
   "source": [
    "## * Item-Item similarity"
   ]
  },
  {
   "cell_type": "markdown",
   "metadata": {},
   "source": [
    "There is one assumption underlying user-to-user collaborative filtering, which is users with\n",
    "similar histories have similar preferences. So one user will be recommended the items purchased\n",
    "by the most similar users. Thus a user-to-user similarity matrix should be constructed from\n",
    "user-item matrix to find the most similar user.\n",
    "The user-item matrix is constructed such that each combination of unique user and unique item\n",
    "(element of matrix) will be given a value indicating the user’s preference of that item. Thus the\n",
    "purchase history of each user is vectorized, ready to compute the similarities of users. ​One\n",
    "specialty of this project is that there are multiple purchasing histories of the same pair of user and\n",
    "item, unlike the rating scenario. So I group the records to only have unique combinations of\n",
    "user and item. In order to increase the effect of the correlations, I accumulate all purchasing\n",
    "histories by summing the column of behavior_type."
   ]
  },
  {
   "cell_type": "code",
   "execution_count": 80,
   "metadata": {
    "collapsed": false
   },
   "outputs": [
    {
     "data": {
      "text/plain": [
       "117"
      ]
     },
     "execution_count": 80,
     "metadata": {},
     "output_type": "execute_result"
    }
   ],
   "source": [
    "# find the items purchased by a user in a dataset\n",
    "def item_record(user_id, dataset):\n",
    "    items_record = dataset.item_id[dataset['user_id'] == user_id]\n",
    "    return items_record.tolist()\n",
    "\n",
    "len(item_record(6118, users))"
   ]
  },
  {
   "cell_type": "code",
   "execution_count": 82,
   "metadata": {
    "collapsed": false
   },
   "outputs": [
    {
     "name": "stdout",
     "output_type": "stream",
     "text": [
      "0.999837087579\n"
     ]
    }
   ],
   "source": [
    "# calculating the sparsity of matrix\n",
    "print 1-float(4686904)/(len(users.user_id.unique())*len(users.item_id.unique()))"
   ]
  },
  {
   "cell_type": "markdown",
   "metadata": {},
   "source": [
    "### contruct item-item sparse matrix"
   ]
  },
  {
   "cell_type": "code",
   "execution_count": 83,
   "metadata": {
    "collapsed": true
   },
   "outputs": [],
   "source": [
    "purchased_grouped =users.groupby(['user_id','item_id']).aggregate(np.sum)\n",
    "purchased_grouped = purchased_grouped.reset_index()\n",
    "purchased_grouped.head()\n",
    "user = purchased_grouped "
   ]
  },
  {
   "cell_type": "code",
   "execution_count": 86,
   "metadata": {
    "collapsed": true
   },
   "outputs": [],
   "source": [
    "origUserID_index_dict = dict([(orig_UserID,i)  for i, orig_UserID in enumerate(purchased_grouped.user_id.unique())]) \n",
    "origItemID_index_dict = dict([(orig_ItemID,i)  for i, orig_ItemID in enumerate(purchased_grouped.item_id.unique())])\n",
    "\n",
    "index_origUserID_dict = dict([(i,orig_UserID)  for i, orig_UserID in enumerate(purchased_grouped.user_id.unique())]) \n",
    "index_origItemID_dict = dict([(i,orig_ItemID)  for i, orig_ItemID in enumerate(purchased_grouped.item_id.unique())])"
   ]
  },
  {
   "cell_type": "code",
   "execution_count": 87,
   "metadata": {
    "collapsed": true
   },
   "outputs": [],
   "source": [
    "User_Row_Index = list(purchased_grouped[\"user_id\"].map(origUserID_index_dict))\n",
    "Item_Col_Index = list(purchased_grouped[\"item_id\"].map(origItemID_index_dict))"
   ]
  },
  {
   "cell_type": "code",
   "execution_count": 88,
   "metadata": {
    "collapsed": true
   },
   "outputs": [],
   "source": [
    "# crs_value = list(purchased_grouped.behavior_type)\n",
    "nrow = max(User_Row_Index)+1\n",
    "ncol = max(Item_Col_Index)+1\n",
    "\n",
    "user_item_sprs = csr_matrix((np.array(crs_value), (User_Row_Index , Item_Col_Index ) ), shape=(nrow, ncol),dtype=float)"
   ]
  },
  {
   "cell_type": "markdown",
   "metadata": {},
   "source": [
    "When you have a very sparse matrix, with a lot of dimensions, by doing matrix factorization you can restructure the user-item matrix into low-rank structure, and you can represent the matrix by the multiplication of two low-rank matrices, where the rows contain the latent vector.\n",
    "There are different metrics for similarities, like cosine similarity and jaccard similarity which are shown below. Here I chose a simpler metrice, especially for sparse matrix, based on the inner product."
   ]
  },
  {
   "cell_type": "code",
   "execution_count": null,
   "metadata": {
    "collapsed": true
   },
   "outputs": [],
   "source": [
    "# user_item_sparse = sp.csc_matrix(user_item)\n",
    "user_item = user_item.apply(pd.to_numeric).astype(float)\n",
    "user_item_sparse = sp.csc_matrix(user_item)\n",
    "def cosine_similarities(mat):\n",
    "    col_normed_mat = pp.normalize(mat.tocsc(), axis=0)\n",
    "    return col_normed_mat.T * col_normed_mat\n",
    "print cosine_similarities(user_item_sparse)"
   ]
  },
  {
   "cell_type": "code",
   "execution_count": null,
   "metadata": {
    "collapsed": true
   },
   "outputs": [],
   "source": [
    "def jaccard_similarities(mat):\n",
    "    cols_sum = mat.getnnz(axis=0)\n",
    "    ab = mat.T * mat\n",
    "\n",
    "    # for rows\n",
    "    aa = np.repeat(cols_sum, ab.getnnz(axis=0))\n",
    "    # for columns\n",
    "    bb = cols_sum[ab.indices]\n",
    "\n",
    "    similarities = ab.copy()\n",
    "    similarities.data /= (aa + bb - ab.data)\n",
    "\n",
    "    return similarities\n",
    "print jaccard_similarities(user_item_sparse)"
   ]
  },
  {
   "cell_type": "markdown",
   "metadata": {},
   "source": [
    "### Similarity based on inner product (correlation matrix)"
   ]
  },
  {
   "cell_type": "code",
   "execution_count": null,
   "metadata": {
    "collapsed": true
   },
   "outputs": [],
   "source": [
    "user_similarity = user_item_sprs*user_item_sprs.transpose()"
   ]
  },
  {
   "cell_type": "code",
   "execution_count": 93,
   "metadata": {
    "collapsed": true
   },
   "outputs": [],
   "source": [
    "# find the most similar user\n",
    "def most_similar_user(UserID):\n",
    "    UserID_test = int(UserID)\n",
    "    user_sim_list = user_similarity[origUserID_index_dict[UserID_test]].toarray()[0].tolist()\n",
    "    similar_index = user_sim_list.index(heapq.nlargest(2, user_sim_list)[1])\n",
    "#return the UserID of the most similar to given user\n",
    "    similar_UserID = index_origUserID_dict[similar_index]\n",
    "    return similar_UserID"
   ]
  },
  {
   "cell_type": "code",
   "execution_count": null,
   "metadata": {
    "collapsed": true
   },
   "outputs": [],
   "source": [
    "# find the favorite item of a given user\n",
    "\n",
    "\n",
    "def favorite_item(UserID, rank):\n",
    "    UsrID = int(UserID)\n",
    "    temp = user.loc[user['user_id'] == UserID] \n",
    "    #index corresponding to the favorite item in temp subset\n",
    "    favorite_item_index = temp['behavior_type'].tolist().index(heapq.nlargest(rank, temp['behavior_type'])[-1])\n",
    "    favorite_item_id = temp.iloc[favorite_item_index]['item_id']\n",
    "    return favorite_item_id"
   ]
  },
  {
   "cell_type": "code",
   "execution_count": null,
   "metadata": {
    "collapsed": true
   },
   "outputs": [],
   "source": [
    "def favorite_k_item(UserID, k):\n",
    "    list_recom = []\n",
    "    for i in range(k):\n",
    "        list_recom.append( favorite_item(UserID, rank = i+1) )\n",
    "    return list_recom\n",
    "        "
   ]
  },
  {
   "cell_type": "markdown",
   "metadata": {},
   "source": [
    "### Testing"
   ]
  },
  {
   "cell_type": "markdown",
   "metadata": {},
   "source": [
    "To evaluate the efficiency of the algorithm, for each item the user purchased, we recommend k\n",
    "other items that are most likely to be purchased in bundle (based on the algorithm). If the\n",
    "intersection between what the user actually bought and our recommendation list is not empty, we have a successfully made a recommendation."
   ]
  },
  {
   "cell_type": "code",
   "execution_count": null,
   "metadata": {
    "collapsed": true
   },
   "outputs": [],
   "source": [
    "# using top-k recommendated items as criterion\n",
    "def test(UserID, k, testing_set):\n",
    "    list_recom = favorite_k_item(UserID, k)\n",
    "    testing_set.item_id[testing_set.behavior_type == 4]"
   ]
  },
  {
   "cell_type": "code",
   "execution_count": null,
   "metadata": {
    "collapsed": true
   },
   "outputs": [],
   "source": [
    "result = 0\n",
    "\n",
    "testing_unique = testing_set.user_id.unique()\n",
    "N = len(testing_unique)\n",
    "\n",
    "    \n",
    "for i in testing_unique:\n",
    "    purchased = testing_set.item_id[np.logical_and(testing_set.behavior_type == 4, testing_set.user_id == i)]\n",
    "    recommended = favorite_k_item(most_similar_user(i), 1)\n",
    "    if len(np.intersect1d(purchased, recommended) ) >0:\n",
    "        result = result + 1"
   ]
  },
  {
   "cell_type": "code",
   "execution_count": null,
   "metadata": {
    "collapsed": true
   },
   "outputs": [],
   "source": [
    "float(result)/N"
   ]
  }
 ],
 "metadata": {
  "kernelspec": {
   "display_name": "Python 2",
   "language": "python",
   "name": "python2"
  },
  "language_info": {
   "codemirror_mode": {
    "name": "ipython",
    "version": 2
   },
   "file_extension": ".py",
   "mimetype": "text/x-python",
   "name": "python",
   "nbconvert_exporter": "python",
   "pygments_lexer": "ipython2",
   "version": "2.7.10"
  }
 },
 "nbformat": 4,
 "nbformat_minor": 2
}
